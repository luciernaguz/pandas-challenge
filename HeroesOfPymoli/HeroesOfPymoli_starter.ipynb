{
 "cells": [
  {
   "cell_type": "markdown",
   "metadata": {},
   "source": [
    "### Heroes Of Pymoli Data Analysis\n",
    "* Of the 1163 active players, the vast majority are male (84%). There also exists, a smaller, but notable proportion of female players (14%).\n",
    "\n",
    "* Our peak age demographic falls between 20-24 (44.8%) with secondary groups falling between 15-19 (18.60%) and 25-29 (13.4%).  \n",
    "-----"
   ]
  },
  {
   "cell_type": "markdown",
   "metadata": {},
   "source": [
    "### Note\n",
    "* Instructions have been included for each segment. You do not have to follow them exactly, but they are included to help you think through the steps."
   ]
  },
  {
   "cell_type": "code",
   "execution_count": 1,
   "metadata": {},
   "outputs": [],
   "source": [
    "# Dependencies and Setup\n",
    "import pandas as pd\n",
    "\n",
    "# File to Load (Remember to Change These)\n",
    "file_to_load = \"Resources/purchase_data.csv\"\n",
    "\n",
    "# Read Purchasing File and store into Pandas data frame\n",
    "purchase_data = pd.read_csv(file_to_load)"
   ]
  },
  {
   "cell_type": "markdown",
   "metadata": {},
   "source": [
    "************************************************************************************************"
   ]
  },
  {
   "cell_type": "markdown",
   "metadata": {},
   "source": [
    "## Player Count"
   ]
  },
  {
   "cell_type": "markdown",
   "metadata": {},
   "source": [
    "* Display the total number of players\n"
   ]
  },
  {
   "cell_type": "code",
   "execution_count": 2,
   "metadata": {},
   "outputs": [
    {
     "data": {
      "text/html": [
       "<div>\n",
       "<style scoped>\n",
       "    .dataframe tbody tr th:only-of-type {\n",
       "        vertical-align: middle;\n",
       "    }\n",
       "\n",
       "    .dataframe tbody tr th {\n",
       "        vertical-align: top;\n",
       "    }\n",
       "\n",
       "    .dataframe thead th {\n",
       "        text-align: right;\n",
       "    }\n",
       "</style>\n",
       "<table border=\"1\" class=\"dataframe\">\n",
       "  <thead>\n",
       "    <tr style=\"text-align: right;\">\n",
       "      <th></th>\n",
       "      <th>Total Players</th>\n",
       "    </tr>\n",
       "  </thead>\n",
       "  <tbody>\n",
       "    <tr>\n",
       "      <th>0</th>\n",
       "      <td>576</td>\n",
       "    </tr>\n",
       "  </tbody>\n",
       "</table>\n",
       "</div>"
      ],
      "text/plain": [
       "   Total Players\n",
       "0            576"
      ]
     },
     "execution_count": 2,
     "metadata": {},
     "output_type": "execute_result"
    }
   ],
   "source": [
    "#Solving, first get Total Players,column SN\n",
    "TotalPlayers=len(purchase_data['SN'].value_counts())\n",
    "#Data Frame for Player Count\n",
    "PlayerCount=pd.DataFrame({\"Total Players\":[TotalPlayers]})\n",
    "PlayerCount"
   ]
  },
  {
   "cell_type": "markdown",
   "metadata": {},
   "source": [
    "*****************************************************************************************"
   ]
  },
  {
   "cell_type": "markdown",
   "metadata": {},
   "source": [
    "## Purchasing Analysis (Total)"
   ]
  },
  {
   "cell_type": "markdown",
   "metadata": {},
   "source": [
    "* Run basic calculations to obtain number of unique items, average price, etc.\n",
    "\n",
    "\n",
    "* Create a summary data frame to hold the results\n",
    "\n",
    "\n",
    "* Optional: give the displayed data cleaner formatting\n",
    "\n",
    "\n",
    "* Display the summary data frame\n"
   ]
  },
  {
   "cell_type": "code",
   "execution_count": 12,
   "metadata": {
    "scrolled": true
   },
   "outputs": [
    {
     "ename": "KeyError",
     "evalue": "'$'",
     "output_type": "error",
     "traceback": [
      "\u001b[1;31m---------------------------------------------------------------------------\u001b[0m",
      "\u001b[1;31mKeyError\u001b[0m                                  Traceback (most recent call last)",
      "\u001b[1;32m<ipython-input-12-79a75a6b4365>\u001b[0m in \u001b[0;36m<module>\u001b[1;34m\u001b[0m\n\u001b[0;32m     14\u001b[0m     \"Total Revenue\":TotalRevenue})\n\u001b[0;32m     15\u001b[0m \u001b[1;31m#Format fields using map\u001b[0m\u001b[1;33m\u001b[0m\u001b[1;33m\u001b[0m\u001b[1;33m\u001b[0m\u001b[0m\n\u001b[1;32m---> 16\u001b[1;33m \u001b[0mPurchasingAnalysis\u001b[0m\u001b[1;33m[\u001b[0m\u001b[1;34m\"Average Price\"\u001b[0m\u001b[1;33m]\u001b[0m\u001b[1;33m=\u001b[0m\u001b[0mPurchasingAnalysis\u001b[0m\u001b[1;33m[\u001b[0m\u001b[1;34m\"Average Price\"\u001b[0m\u001b[1;33m]\u001b[0m\u001b[1;33m.\u001b[0m\u001b[0mmap\u001b[0m\u001b[1;33m(\u001b[0m\u001b[1;34m\"{$:.2f}\"\u001b[0m\u001b[1;33m.\u001b[0m\u001b[0mformat\u001b[0m\u001b[1;33m)\u001b[0m\u001b[1;33m\u001b[0m\u001b[1;33m\u001b[0m\u001b[0m\n\u001b[0m\u001b[0;32m     17\u001b[0m \u001b[0mPurchasingAnalysis\u001b[0m\u001b[1;33m[\u001b[0m\u001b[1;34m\"Total Revenue\"\u001b[0m\u001b[1;33m]\u001b[0m\u001b[1;33m=\u001b[0m\u001b[0mPurchasingAnalysis\u001b[0m\u001b[1;33m[\u001b[0m\u001b[1;34m\"Total Revenue\"\u001b[0m\u001b[1;33m]\u001b[0m\u001b[1;33m.\u001b[0m\u001b[0mmap\u001b[0m\u001b[1;33m(\u001b[0m\u001b[1;34m\"{$:,.2f}\"\u001b[0m\u001b[1;33m.\u001b[0m\u001b[0mformat\u001b[0m\u001b[1;33m)\u001b[0m\u001b[1;33m\u001b[0m\u001b[1;33m\u001b[0m\u001b[0m\n\u001b[0;32m     18\u001b[0m \u001b[1;31m#show DataFrame\u001b[0m\u001b[1;33m\u001b[0m\u001b[1;33m\u001b[0m\u001b[1;33m\u001b[0m\u001b[0m\n",
      "\u001b[1;32m~\\anaconda3\\lib\\site-packages\\pandas\\core\\series.py\u001b[0m in \u001b[0;36mmap\u001b[1;34m(self, arg, na_action)\u001b[0m\n\u001b[0;32m   3628\u001b[0m         \u001b[0mdtype\u001b[0m\u001b[1;33m:\u001b[0m \u001b[0mobject\u001b[0m\u001b[1;33m\u001b[0m\u001b[1;33m\u001b[0m\u001b[0m\n\u001b[0;32m   3629\u001b[0m         \"\"\"\n\u001b[1;32m-> 3630\u001b[1;33m         \u001b[0mnew_values\u001b[0m \u001b[1;33m=\u001b[0m \u001b[0msuper\u001b[0m\u001b[1;33m(\u001b[0m\u001b[1;33m)\u001b[0m\u001b[1;33m.\u001b[0m\u001b[0m_map_values\u001b[0m\u001b[1;33m(\u001b[0m\u001b[0marg\u001b[0m\u001b[1;33m,\u001b[0m \u001b[0mna_action\u001b[0m\u001b[1;33m=\u001b[0m\u001b[0mna_action\u001b[0m\u001b[1;33m)\u001b[0m\u001b[1;33m\u001b[0m\u001b[1;33m\u001b[0m\u001b[0m\n\u001b[0m\u001b[0;32m   3631\u001b[0m         \u001b[1;32mreturn\u001b[0m \u001b[0mself\u001b[0m\u001b[1;33m.\u001b[0m\u001b[0m_constructor\u001b[0m\u001b[1;33m(\u001b[0m\u001b[0mnew_values\u001b[0m\u001b[1;33m,\u001b[0m \u001b[0mindex\u001b[0m\u001b[1;33m=\u001b[0m\u001b[0mself\u001b[0m\u001b[1;33m.\u001b[0m\u001b[0mindex\u001b[0m\u001b[1;33m)\u001b[0m\u001b[1;33m.\u001b[0m\u001b[0m__finalize__\u001b[0m\u001b[1;33m(\u001b[0m\u001b[0mself\u001b[0m\u001b[1;33m)\u001b[0m\u001b[1;33m\u001b[0m\u001b[1;33m\u001b[0m\u001b[0m\n\u001b[0;32m   3632\u001b[0m \u001b[1;33m\u001b[0m\u001b[0m\n",
      "\u001b[1;32m~\\anaconda3\\lib\\site-packages\\pandas\\core\\base.py\u001b[0m in \u001b[0;36m_map_values\u001b[1;34m(self, mapper, na_action)\u001b[0m\n\u001b[0;32m   1143\u001b[0m \u001b[1;33m\u001b[0m\u001b[0m\n\u001b[0;32m   1144\u001b[0m         \u001b[1;31m# mapper is a function\u001b[0m\u001b[1;33m\u001b[0m\u001b[1;33m\u001b[0m\u001b[1;33m\u001b[0m\u001b[0m\n\u001b[1;32m-> 1145\u001b[1;33m         \u001b[0mnew_values\u001b[0m \u001b[1;33m=\u001b[0m \u001b[0mmap_f\u001b[0m\u001b[1;33m(\u001b[0m\u001b[0mvalues\u001b[0m\u001b[1;33m,\u001b[0m \u001b[0mmapper\u001b[0m\u001b[1;33m)\u001b[0m\u001b[1;33m\u001b[0m\u001b[1;33m\u001b[0m\u001b[0m\n\u001b[0m\u001b[0;32m   1146\u001b[0m \u001b[1;33m\u001b[0m\u001b[0m\n\u001b[0;32m   1147\u001b[0m         \u001b[1;32mreturn\u001b[0m \u001b[0mnew_values\u001b[0m\u001b[1;33m\u001b[0m\u001b[1;33m\u001b[0m\u001b[0m\n",
      "\u001b[1;32mpandas\\_libs\\lib.pyx\u001b[0m in \u001b[0;36mpandas._libs.lib.map_infer\u001b[1;34m()\u001b[0m\n",
      "\u001b[1;31mKeyError\u001b[0m: '$'"
     ]
    }
   ],
   "source": [
    "#Purchasing Analysis (Total)   using mean,sum\n",
    "#Number of Unique Items 1rst column,usinf Field ID \n",
    "NumberUniqueItems=len(purchase_data['Item ID'].unique())\n",
    "#Average Price\n",
    "AveragePrice=purchase_data['Price'].mean()\n",
    "#Number of Purchases\n",
    "NumberofPurchases=purchase_data['Purchase ID'].count()\n",
    "#Total Revenue\n",
    "TotalRevenue=purchase_data['Price'].sum()\n",
    "#Doing DataFrame for Purchasing Analysis (Total)\n",
    "PurchasingAnalysis=pd.DataFrame({\"Number of Unique Items\":[NumberUniqueItems],\n",
    "    \"Average Price\":AveragePrice,\n",
    "    \"Number of Purchases\":NumberofPurchases,\n",
    "    \"Total Revenue\":TotalRevenue})\n",
    "#Format fields using map\n",
    "PurchasingAnalysis[\"Average Price\"]=PurchasingAnalysis[\"Average Price\"].map(\"{:.2f}\".format)\n",
    "PurchasingAnalysis[\"Total Revenue\"]=PurchasingAnalysis[\"Total Revenue\"].map(\"{:,.2f}\".format)\n",
    "#show DataFrame\n",
    "PurchasingAnalysis.index.name=None\n",
    "PurchasingAnalysis"
   ]
  },
  {
   "cell_type": "markdown",
   "metadata": {},
   "source": [
    "*************************************************************************************"
   ]
  },
  {
   "cell_type": "markdown",
   "metadata": {},
   "source": [
    "## Gender Demographics"
   ]
  },
  {
   "cell_type": "markdown",
   "metadata": {},
   "source": [
    "* Percentage and Count of Male Players\n",
    "\n",
    "\n",
    "* Percentage and Count of Female Players\n",
    "\n",
    "\n",
    "* Percentage and Count of Other / Non-Disclosed\n",
    "\n",
    "\n"
   ]
  },
  {
   "cell_type": "code",
   "execution_count": 4,
   "metadata": {},
   "outputs": [
    {
     "data": {
      "text/html": [
       "<div>\n",
       "<style scoped>\n",
       "    .dataframe tbody tr th:only-of-type {\n",
       "        vertical-align: middle;\n",
       "    }\n",
       "\n",
       "    .dataframe tbody tr th {\n",
       "        vertical-align: top;\n",
       "    }\n",
       "\n",
       "    .dataframe thead th {\n",
       "        text-align: right;\n",
       "    }\n",
       "</style>\n",
       "<table border=\"1\" class=\"dataframe\">\n",
       "  <thead>\n",
       "    <tr style=\"text-align: right;\">\n",
       "      <th></th>\n",
       "      <th>Total Count</th>\n",
       "      <th>Percentage of Players</th>\n",
       "    </tr>\n",
       "    <tr>\n",
       "      <th>Gender</th>\n",
       "      <th></th>\n",
       "      <th></th>\n",
       "    </tr>\n",
       "  </thead>\n",
       "  <tbody>\n",
       "    <tr>\n",
       "      <th>Female</th>\n",
       "      <td>81</td>\n",
       "      <td>14.06%</td>\n",
       "    </tr>\n",
       "    <tr>\n",
       "      <th>Male</th>\n",
       "      <td>484</td>\n",
       "      <td>84.03%</td>\n",
       "    </tr>\n",
       "    <tr>\n",
       "      <th>Other / Non-Disclosed</th>\n",
       "      <td>11</td>\n",
       "      <td>1.91%</td>\n",
       "    </tr>\n",
       "  </tbody>\n",
       "</table>\n",
       "</div>"
      ],
      "text/plain": [
       "                       Total Count Percentage of Players\n",
       "Gender                                                  \n",
       "Female                          81                14.06%\n",
       "Male                           484                84.03%\n",
       "Other / Non-Disclosed           11                 1.91%"
      ]
     },
     "execution_count": 4,
     "metadata": {},
     "output_type": "execute_result"
    }
   ],
   "source": [
    "#Gender Demographics\n",
    "#Gender group by\n",
    "Gender=Genders=purchase_data.groupby('Gender')\n",
    "#Total Count Unique Genders SN\n",
    "GendersUnique=Genders.nunique()['SN']\n",
    "#Percentage of Players\n",
    "PercentageofPlayers=GendersUnique/TotalPlayers *100\n",
    "#Create Data Frame Gender Demographics\n",
    "GenderDemographics=pd.DataFrame({\"Total Count\":GendersUnique,\"Percentage of Players\": PercentageofPlayers})\n",
    "#Putting off the label Gender for format\n",
    "GenderDemographics.index.name=None\n",
    "#Format columns with map\n",
    "GenderDemographics[\"Percentage of Players\"]=GenderDemographics[\"Percentage of Players\"].map(\"{:.2f}%\".format)\n",
    "#show DataFrame\n",
    "GenderDemographics.index.name=\"Gender\"\n",
    "GenderDemographics\n"
   ]
  },
  {
   "cell_type": "markdown",
   "metadata": {},
   "source": [
    "*********************************************************************************************************"
   ]
  },
  {
   "cell_type": "markdown",
   "metadata": {},
   "source": [
    "\n",
    "## Purchasing Analysis (Gender)"
   ]
  },
  {
   "cell_type": "markdown",
   "metadata": {},
   "source": [
    "* Run basic calculations to obtain purchase count, avg. purchase price, avg. purchase total per person etc. by gender\n",
    "\n",
    "\n",
    "\n",
    "\n",
    "* Create a summary data frame to hold the results\n",
    "\n",
    "\n",
    "* Optional: give the displayed data cleaner formatting\n",
    "\n",
    "\n",
    "* Display the summary data frame"
   ]
  },
  {
   "cell_type": "code",
   "execution_count": 13,
   "metadata": {},
   "outputs": [
    {
     "data": {
      "text/html": [
       "<div>\n",
       "<style scoped>\n",
       "    .dataframe tbody tr th:only-of-type {\n",
       "        vertical-align: middle;\n",
       "    }\n",
       "\n",
       "    .dataframe tbody tr th {\n",
       "        vertical-align: top;\n",
       "    }\n",
       "\n",
       "    .dataframe thead th {\n",
       "        text-align: right;\n",
       "    }\n",
       "</style>\n",
       "<table border=\"1\" class=\"dataframe\">\n",
       "  <thead>\n",
       "    <tr style=\"text-align: right;\">\n",
       "      <th></th>\n",
       "      <th>Purchase Count</th>\n",
       "      <th>Average Purchase Price</th>\n",
       "      <th>Total Purchase Value</th>\n",
       "      <th>Avg Total Purchase per Person</th>\n",
       "    </tr>\n",
       "    <tr>\n",
       "      <th>Gender</th>\n",
       "      <th></th>\n",
       "      <th></th>\n",
       "      <th></th>\n",
       "      <th></th>\n",
       "    </tr>\n",
       "  </thead>\n",
       "  <tbody>\n",
       "    <tr>\n",
       "      <th>Female</th>\n",
       "      <td>113</td>\n",
       "      <td>$3.20</td>\n",
       "      <td>$361.94</td>\n",
       "      <td>$4.47</td>\n",
       "    </tr>\n",
       "    <tr>\n",
       "      <th>Male</th>\n",
       "      <td>652</td>\n",
       "      <td>$3.02</td>\n",
       "      <td>$1,967.64</td>\n",
       "      <td>$4.07</td>\n",
       "    </tr>\n",
       "    <tr>\n",
       "      <th>Other / Non-Disclosed</th>\n",
       "      <td>15</td>\n",
       "      <td>$3.35</td>\n",
       "      <td>$50.19</td>\n",
       "      <td>$4.56</td>\n",
       "    </tr>\n",
       "  </tbody>\n",
       "</table>\n",
       "</div>"
      ],
      "text/plain": [
       "                       Purchase Count Average Purchase Price  \\\n",
       "Gender                                                         \n",
       "Female                            113                  $3.20   \n",
       "Male                              652                  $3.02   \n",
       "Other / Non-Disclosed              15                  $3.35   \n",
       "\n",
       "                      Total Purchase Value Avg Total Purchase per Person  \n",
       "Gender                                                                    \n",
       "Female                             $361.94                         $4.47  \n",
       "Male                             $1,967.64                         $4.07  \n",
       "Other / Non-Disclosed               $50.19                         $4.56  "
      ]
     },
     "execution_count": 13,
     "metadata": {},
     "output_type": "execute_result"
    }
   ],
   "source": [
    "#Purchase Count (Operation over Price and Gender columns)\n",
    "#Total of purchases over\n",
    "PurchaseCount=Genders['Purchase ID'].count()\n",
    "#Average (mean) of Purchases\n",
    "AveragePurchasePrice=Genders['Price'].mean()\n",
    "#Total (sum) purchase value\n",
    "TotalPurchaseValue=Genders['Price'].sum()\n",
    "#Doing average per person,Using total person unique \n",
    "#AveragePurchaseperPerson=AveragePurchasePrice/GendersUnique (sum)\n",
    "AveragePurchaseperPerson=TotalPurchaseValue/GendersUnique\n",
    "#Doing a DataFrame PurchasingAnalysisGender\n",
    "PurchasingAnalysisG=pd.DataFrame({\"Purchase Count\": PurchaseCount,\n",
    "\"Average Purchase Price\":AveragePurchasePrice,\n",
    "\"Total Purchase Value\": TotalPurchaseValue,\n",
    "\"Avg Total Purchase per Person\":AveragePurchaseperPerson})\n",
    "PurchasingAnalysisG[\"Average Purchase Price\"]=PurchasingAnalysisG[\"Average Purchase Price\"].map(\"${:,.2f}\".format)\n",
    "PurchasingAnalysisG[\"Total Purchase Value\"]=PurchasingAnalysisG[\"Total Purchase Value\"].map(\"${:,.2f}\".format)\n",
    "PurchasingAnalysisG[\"Avg Total Purchase per Person\"]=PurchasingAnalysisG[\"Avg Total Purchase per Person\"].map(\"${:,.2f}\".format)\n",
    "PurchasingAnalysisG.index.name=\"Gender\"\n",
    "PurchasingAnalysisG"
   ]
  },
  {
   "cell_type": "markdown",
   "metadata": {},
   "source": [
    "****************************************************************************************"
   ]
  },
  {
   "cell_type": "markdown",
   "metadata": {},
   "source": [
    "## Age Demographics"
   ]
  },
  {
   "cell_type": "markdown",
   "metadata": {},
   "source": [
    "* Establish bins for ages\n",
    "\n",
    "\n",
    "* Categorize the existing players using the age bins. Hint: use pd.cut()\n",
    "\n",
    "\n",
    "* Calculate the numbers and percentages by age group\n",
    "\n",
    "\n",
    "* Create a summary data frame to hold the results\n",
    "\n",
    "\n",
    "* Optional: round the percentage column to two decimal points\n",
    "\n",
    "\n",
    "* Display Age Demographics Table\n"
   ]
  },
  {
   "cell_type": "code",
   "execution_count": 6,
   "metadata": {},
   "outputs": [
    {
     "data": {
      "text/html": [
       "<style  type=\"text/css\" >\n",
       "</style><table id=\"T_01401ddf_0ddd_11eb_a8f6_d8c0a60b6f56\" ><thead>    <tr>        <th class=\"blank level0\" ></th>        <th class=\"col_heading level0 col0\" >Total Count</th>        <th class=\"col_heading level0 col1\" >Percentage of Players</th>    </tr></thead><tbody>\n",
       "                <tr>\n",
       "                        <th id=\"T_01401ddf_0ddd_11eb_a8f6_d8c0a60b6f56level0_row0\" class=\"row_heading level0 row0\" ><10</th>\n",
       "                        <td id=\"T_01401ddf_0ddd_11eb_a8f6_d8c0a60b6f56row0_col0\" class=\"data row0 col0\" >17</td>\n",
       "                        <td id=\"T_01401ddf_0ddd_11eb_a8f6_d8c0a60b6f56row0_col1\" class=\"data row0 col1\" >2.95%</td>\n",
       "            </tr>\n",
       "            <tr>\n",
       "                        <th id=\"T_01401ddf_0ddd_11eb_a8f6_d8c0a60b6f56level0_row1\" class=\"row_heading level0 row1\" >10-14</th>\n",
       "                        <td id=\"T_01401ddf_0ddd_11eb_a8f6_d8c0a60b6f56row1_col0\" class=\"data row1 col0\" >22</td>\n",
       "                        <td id=\"T_01401ddf_0ddd_11eb_a8f6_d8c0a60b6f56row1_col1\" class=\"data row1 col1\" >3.82%</td>\n",
       "            </tr>\n",
       "            <tr>\n",
       "                        <th id=\"T_01401ddf_0ddd_11eb_a8f6_d8c0a60b6f56level0_row2\" class=\"row_heading level0 row2\" >15-19</th>\n",
       "                        <td id=\"T_01401ddf_0ddd_11eb_a8f6_d8c0a60b6f56row2_col0\" class=\"data row2 col0\" >107</td>\n",
       "                        <td id=\"T_01401ddf_0ddd_11eb_a8f6_d8c0a60b6f56row2_col1\" class=\"data row2 col1\" >18.58%</td>\n",
       "            </tr>\n",
       "            <tr>\n",
       "                        <th id=\"T_01401ddf_0ddd_11eb_a8f6_d8c0a60b6f56level0_row3\" class=\"row_heading level0 row3\" >20-24</th>\n",
       "                        <td id=\"T_01401ddf_0ddd_11eb_a8f6_d8c0a60b6f56row3_col0\" class=\"data row3 col0\" >258</td>\n",
       "                        <td id=\"T_01401ddf_0ddd_11eb_a8f6_d8c0a60b6f56row3_col1\" class=\"data row3 col1\" >44.79%</td>\n",
       "            </tr>\n",
       "            <tr>\n",
       "                        <th id=\"T_01401ddf_0ddd_11eb_a8f6_d8c0a60b6f56level0_row4\" class=\"row_heading level0 row4\" >25-29</th>\n",
       "                        <td id=\"T_01401ddf_0ddd_11eb_a8f6_d8c0a60b6f56row4_col0\" class=\"data row4 col0\" >77</td>\n",
       "                        <td id=\"T_01401ddf_0ddd_11eb_a8f6_d8c0a60b6f56row4_col1\" class=\"data row4 col1\" >13.37%</td>\n",
       "            </tr>\n",
       "            <tr>\n",
       "                        <th id=\"T_01401ddf_0ddd_11eb_a8f6_d8c0a60b6f56level0_row5\" class=\"row_heading level0 row5\" >30-34</th>\n",
       "                        <td id=\"T_01401ddf_0ddd_11eb_a8f6_d8c0a60b6f56row5_col0\" class=\"data row5 col0\" >52</td>\n",
       "                        <td id=\"T_01401ddf_0ddd_11eb_a8f6_d8c0a60b6f56row5_col1\" class=\"data row5 col1\" >9.03%</td>\n",
       "            </tr>\n",
       "            <tr>\n",
       "                        <th id=\"T_01401ddf_0ddd_11eb_a8f6_d8c0a60b6f56level0_row6\" class=\"row_heading level0 row6\" >35-39</th>\n",
       "                        <td id=\"T_01401ddf_0ddd_11eb_a8f6_d8c0a60b6f56row6_col0\" class=\"data row6 col0\" >31</td>\n",
       "                        <td id=\"T_01401ddf_0ddd_11eb_a8f6_d8c0a60b6f56row6_col1\" class=\"data row6 col1\" >5.38%</td>\n",
       "            </tr>\n",
       "            <tr>\n",
       "                        <th id=\"T_01401ddf_0ddd_11eb_a8f6_d8c0a60b6f56level0_row7\" class=\"row_heading level0 row7\" >40+</th>\n",
       "                        <td id=\"T_01401ddf_0ddd_11eb_a8f6_d8c0a60b6f56row7_col0\" class=\"data row7 col0\" >12</td>\n",
       "                        <td id=\"T_01401ddf_0ddd_11eb_a8f6_d8c0a60b6f56row7_col1\" class=\"data row7 col1\" >2.08%</td>\n",
       "            </tr>\n",
       "    </tbody></table>"
      ],
      "text/plain": [
       "<pandas.io.formats.style.Styler at 0x24268ff8be0>"
      ]
     },
     "execution_count": 6,
     "metadata": {},
     "output_type": "execute_result"
    }
   ],
   "source": [
    "#Age Demographics\n",
    "#create bins,adding one more value than group_names ...sending error, taking exactly ranges\n",
    "bins=[0,9.99,14.99,19.99,24.99,29.99,34.99,39.99,9999]\n",
    "#bins=[0,10,15,20,25,30,35,40,9999]\n",
    "#create labels for these bins #add one more register\n",
    "group_names=[\"<10\",\"10-14\",\"15-19\",\"20-24\",\"25-29\",\"30-34\",\"35-39\",\"40+\"]\n",
    "#DataFrame with Bins  \n",
    "#Age Ranges=pd.DataFrame(purchase_data_u)\n",
    "purchase_data['Age Ranges']=pd.cut(purchase_data['Age'],bins=bins,labels=group_names)\n",
    "purchase_data\n",
    "#DataFrame with all Ages using groupby #AgesGroup\n",
    "AgesGroup=purchase_data.groupby('Age Ranges')\n",
    "#TotalCount from DF\n",
    "TotalAgesCount=AgesGroup['SN'].nunique() \n",
    "#Doing percentage player  Using total´s above  ***check TotalAgesCount\n",
    "#Percentage of Players\n",
    "PercentagePlayers=(TotalAgesCount/TotalPlayers)*100\n",
    "#Final DataFrame Age Demographics\n",
    "AgeDemographics=pd.DataFrame({\"Total Count\":TotalAgesCount,\"Percentage of Players\":PercentagePlayers})\n",
    "# format DF using style\n",
    "AgeDemographics.index.name=None\n",
    "AgeDemographics.style.format({\"Percentage of Players\":\"{:.2f}%\"})\n",
    "# show DataFrame AgeDemographics "
   ]
  },
  {
   "cell_type": "markdown",
   "metadata": {},
   "source": [
    "********************************************************************************************"
   ]
  },
  {
   "cell_type": "markdown",
   "metadata": {},
   "source": [
    "## Purchasing Analysis (Age)"
   ]
  },
  {
   "cell_type": "markdown",
   "metadata": {},
   "source": [
    "* Bin the purchase_data data frame by age\n",
    "\n",
    "\n",
    "* Run basic calculations to obtain purchase count, avg. purchase price, avg. purchase total per person etc. in the table below\n",
    "\n",
    "\n",
    "* Create a summary data frame to hold the results\n",
    "\n",
    "\n",
    "* Optional: give the displayed data cleaner formatting\n",
    "\n",
    "\n",
    "* Display the summary data frame"
   ]
  },
  {
   "cell_type": "code",
   "execution_count": 7,
   "metadata": {},
   "outputs": [
    {
     "data": {
      "text/html": [
       "<style  type=\"text/css\" >\n",
       "</style><table id=\"T_01448ac7_0ddd_11eb_a851_d8c0a60b6f56\" ><thead>    <tr>        <th class=\"blank level0\" ></th>        <th class=\"col_heading level0 col0\" >Purchase Count</th>        <th class=\"col_heading level0 col1\" >Average Purchase Price</th>        <th class=\"col_heading level0 col2\" >Total Purchase Value</th>        <th class=\"col_heading level0 col3\" >Avg Total Purchase per Person</th>    </tr></thead><tbody>\n",
       "                <tr>\n",
       "                        <th id=\"T_01448ac7_0ddd_11eb_a851_d8c0a60b6f56level0_row0\" class=\"row_heading level0 row0\" ><10</th>\n",
       "                        <td id=\"T_01448ac7_0ddd_11eb_a851_d8c0a60b6f56row0_col0\" class=\"data row0 col0\" >23</td>\n",
       "                        <td id=\"T_01448ac7_0ddd_11eb_a851_d8c0a60b6f56row0_col1\" class=\"data row0 col1\" >$3.35</td>\n",
       "                        <td id=\"T_01448ac7_0ddd_11eb_a851_d8c0a60b6f56row0_col2\" class=\"data row0 col2\" >$77.13</td>\n",
       "                        <td id=\"T_01448ac7_0ddd_11eb_a851_d8c0a60b6f56row0_col3\" class=\"data row0 col3\" >$4.54</td>\n",
       "            </tr>\n",
       "            <tr>\n",
       "                        <th id=\"T_01448ac7_0ddd_11eb_a851_d8c0a60b6f56level0_row1\" class=\"row_heading level0 row1\" >10-14</th>\n",
       "                        <td id=\"T_01448ac7_0ddd_11eb_a851_d8c0a60b6f56row1_col0\" class=\"data row1 col0\" >28</td>\n",
       "                        <td id=\"T_01448ac7_0ddd_11eb_a851_d8c0a60b6f56row1_col1\" class=\"data row1 col1\" >$2.96</td>\n",
       "                        <td id=\"T_01448ac7_0ddd_11eb_a851_d8c0a60b6f56row1_col2\" class=\"data row1 col2\" >$82.78</td>\n",
       "                        <td id=\"T_01448ac7_0ddd_11eb_a851_d8c0a60b6f56row1_col3\" class=\"data row1 col3\" >$3.76</td>\n",
       "            </tr>\n",
       "            <tr>\n",
       "                        <th id=\"T_01448ac7_0ddd_11eb_a851_d8c0a60b6f56level0_row2\" class=\"row_heading level0 row2\" >15-19</th>\n",
       "                        <td id=\"T_01448ac7_0ddd_11eb_a851_d8c0a60b6f56row2_col0\" class=\"data row2 col0\" >136</td>\n",
       "                        <td id=\"T_01448ac7_0ddd_11eb_a851_d8c0a60b6f56row2_col1\" class=\"data row2 col1\" >$3.04</td>\n",
       "                        <td id=\"T_01448ac7_0ddd_11eb_a851_d8c0a60b6f56row2_col2\" class=\"data row2 col2\" >$412.89</td>\n",
       "                        <td id=\"T_01448ac7_0ddd_11eb_a851_d8c0a60b6f56row2_col3\" class=\"data row2 col3\" >$3.86</td>\n",
       "            </tr>\n",
       "            <tr>\n",
       "                        <th id=\"T_01448ac7_0ddd_11eb_a851_d8c0a60b6f56level0_row3\" class=\"row_heading level0 row3\" >20-24</th>\n",
       "                        <td id=\"T_01448ac7_0ddd_11eb_a851_d8c0a60b6f56row3_col0\" class=\"data row3 col0\" >365</td>\n",
       "                        <td id=\"T_01448ac7_0ddd_11eb_a851_d8c0a60b6f56row3_col1\" class=\"data row3 col1\" >$3.05</td>\n",
       "                        <td id=\"T_01448ac7_0ddd_11eb_a851_d8c0a60b6f56row3_col2\" class=\"data row3 col2\" >$1,114.06</td>\n",
       "                        <td id=\"T_01448ac7_0ddd_11eb_a851_d8c0a60b6f56row3_col3\" class=\"data row3 col3\" >$4.32</td>\n",
       "            </tr>\n",
       "            <tr>\n",
       "                        <th id=\"T_01448ac7_0ddd_11eb_a851_d8c0a60b6f56level0_row4\" class=\"row_heading level0 row4\" >25-29</th>\n",
       "                        <td id=\"T_01448ac7_0ddd_11eb_a851_d8c0a60b6f56row4_col0\" class=\"data row4 col0\" >101</td>\n",
       "                        <td id=\"T_01448ac7_0ddd_11eb_a851_d8c0a60b6f56row4_col1\" class=\"data row4 col1\" >$2.90</td>\n",
       "                        <td id=\"T_01448ac7_0ddd_11eb_a851_d8c0a60b6f56row4_col2\" class=\"data row4 col2\" >$293.00</td>\n",
       "                        <td id=\"T_01448ac7_0ddd_11eb_a851_d8c0a60b6f56row4_col3\" class=\"data row4 col3\" >$3.81</td>\n",
       "            </tr>\n",
       "            <tr>\n",
       "                        <th id=\"T_01448ac7_0ddd_11eb_a851_d8c0a60b6f56level0_row5\" class=\"row_heading level0 row5\" >30-34</th>\n",
       "                        <td id=\"T_01448ac7_0ddd_11eb_a851_d8c0a60b6f56row5_col0\" class=\"data row5 col0\" >73</td>\n",
       "                        <td id=\"T_01448ac7_0ddd_11eb_a851_d8c0a60b6f56row5_col1\" class=\"data row5 col1\" >$2.93</td>\n",
       "                        <td id=\"T_01448ac7_0ddd_11eb_a851_d8c0a60b6f56row5_col2\" class=\"data row5 col2\" >$214.00</td>\n",
       "                        <td id=\"T_01448ac7_0ddd_11eb_a851_d8c0a60b6f56row5_col3\" class=\"data row5 col3\" >$4.12</td>\n",
       "            </tr>\n",
       "            <tr>\n",
       "                        <th id=\"T_01448ac7_0ddd_11eb_a851_d8c0a60b6f56level0_row6\" class=\"row_heading level0 row6\" >35-39</th>\n",
       "                        <td id=\"T_01448ac7_0ddd_11eb_a851_d8c0a60b6f56row6_col0\" class=\"data row6 col0\" >41</td>\n",
       "                        <td id=\"T_01448ac7_0ddd_11eb_a851_d8c0a60b6f56row6_col1\" class=\"data row6 col1\" >$3.60</td>\n",
       "                        <td id=\"T_01448ac7_0ddd_11eb_a851_d8c0a60b6f56row6_col2\" class=\"data row6 col2\" >$147.67</td>\n",
       "                        <td id=\"T_01448ac7_0ddd_11eb_a851_d8c0a60b6f56row6_col3\" class=\"data row6 col3\" >$4.76</td>\n",
       "            </tr>\n",
       "            <tr>\n",
       "                        <th id=\"T_01448ac7_0ddd_11eb_a851_d8c0a60b6f56level0_row7\" class=\"row_heading level0 row7\" >40+</th>\n",
       "                        <td id=\"T_01448ac7_0ddd_11eb_a851_d8c0a60b6f56row7_col0\" class=\"data row7 col0\" >13</td>\n",
       "                        <td id=\"T_01448ac7_0ddd_11eb_a851_d8c0a60b6f56row7_col1\" class=\"data row7 col1\" >$2.94</td>\n",
       "                        <td id=\"T_01448ac7_0ddd_11eb_a851_d8c0a60b6f56row7_col2\" class=\"data row7 col2\" >$38.24</td>\n",
       "                        <td id=\"T_01448ac7_0ddd_11eb_a851_d8c0a60b6f56row7_col3\" class=\"data row7 col3\" >$3.19</td>\n",
       "            </tr>\n",
       "    </tbody></table>"
      ],
      "text/plain": [
       "<pandas.io.formats.style.Styler at 0x2426906b6a0>"
      ]
     },
     "execution_count": 7,
     "metadata": {},
     "output_type": "execute_result"
    }
   ],
   "source": [
    "#Purchasing Analysis Age\n",
    "#Purchase Count Age\n",
    "PurchaseCountAge=AgesGroup['Purchase ID'].count()\n",
    "#Average Purchase Price (mean $) \n",
    "AveragePurchasePrice=AgesGroup['Price'].mean()\n",
    "#Total Purchase Value (sum Price $)\n",
    "TotalPurchaseValue=AgesGroup['Price'].sum()\n",
    "#Avg Total Purchase per Person \n",
    "#TotalAgesCount for average\n",
    "AvgTotalPurchaseperPerson=TotalPurchaseValue/TotalAgesCount\n",
    "#Final DataFrame PurchasingAnalysisAge\n",
    "PurchasingAnalysisAge=pd.DataFrame({\"Purchase Count\": PurchaseCountAge,\n",
    "\"Average Purchase Price\": AveragePurchasePrice,\n",
    "\"Total Purchase Value\": TotalPurchaseValue,\"Avg Total Purchase per Person\":AvgTotalPurchaseperPerson})\n",
    "#PurchasingAnalysisAge\n",
    "# format DF using style\n",
    "PurchasingAnalysisAge.style.format({\"Average Purchase Price\":\"${:,.2f}\",\n",
    "\"Total Purchase Value\":\"${:,.2f}\",\"Avg Total Purchase per Person\":\"${:,.2f}\"})"
   ]
  },
  {
   "cell_type": "markdown",
   "metadata": {},
   "source": [
    "***********************************************************************************************"
   ]
  },
  {
   "cell_type": "markdown",
   "metadata": {},
   "source": [
    "## Top Spenders"
   ]
  },
  {
   "cell_type": "markdown",
   "metadata": {},
   "source": [
    "* Run basic calculations to obtain the results in the table below\n",
    "\n",
    "\n",
    "* Create a summary data frame to hold the results\n",
    "\n",
    "\n",
    "* Sort the total purchase value column in descending order\n",
    "\n",
    "\n",
    "* Optional: give the displayed data cleaner formatting\n",
    "\n",
    "\n",
    "* Display a preview of the summary data frame\n",
    "\n"
   ]
  },
  {
   "cell_type": "code",
   "execution_count": 8,
   "metadata": {},
   "outputs": [
    {
     "data": {
      "text/html": [
       "<style  type=\"text/css\" >\n",
       "</style><table id=\"T_015cf626_0ddd_11eb_89ff_d8c0a60b6f56\" ><thead>    <tr>        <th class=\"blank level0\" ></th>        <th class=\"col_heading level0 col0\" >Purchase Count</th>        <th class=\"col_heading level0 col1\" >Average Purchase Price</th>        <th class=\"col_heading level0 col2\" >Total Purchase Value</th>    </tr>    <tr>        <th class=\"index_name level0\" >SN</th>        <th class=\"blank\" ></th>        <th class=\"blank\" ></th>        <th class=\"blank\" ></th>    </tr></thead><tbody>\n",
       "                <tr>\n",
       "                        <th id=\"T_015cf626_0ddd_11eb_89ff_d8c0a60b6f56level0_row0\" class=\"row_heading level0 row0\" >Lisosia93</th>\n",
       "                        <td id=\"T_015cf626_0ddd_11eb_89ff_d8c0a60b6f56row0_col0\" class=\"data row0 col0\" >5</td>\n",
       "                        <td id=\"T_015cf626_0ddd_11eb_89ff_d8c0a60b6f56row0_col1\" class=\"data row0 col1\" >$3.79</td>\n",
       "                        <td id=\"T_015cf626_0ddd_11eb_89ff_d8c0a60b6f56row0_col2\" class=\"data row0 col2\" >$18.96</td>\n",
       "            </tr>\n",
       "            <tr>\n",
       "                        <th id=\"T_015cf626_0ddd_11eb_89ff_d8c0a60b6f56level0_row1\" class=\"row_heading level0 row1\" >Idastidru52</th>\n",
       "                        <td id=\"T_015cf626_0ddd_11eb_89ff_d8c0a60b6f56row1_col0\" class=\"data row1 col0\" >4</td>\n",
       "                        <td id=\"T_015cf626_0ddd_11eb_89ff_d8c0a60b6f56row1_col1\" class=\"data row1 col1\" >$3.86</td>\n",
       "                        <td id=\"T_015cf626_0ddd_11eb_89ff_d8c0a60b6f56row1_col2\" class=\"data row1 col2\" >$15.45</td>\n",
       "            </tr>\n",
       "            <tr>\n",
       "                        <th id=\"T_015cf626_0ddd_11eb_89ff_d8c0a60b6f56level0_row2\" class=\"row_heading level0 row2\" >Chamjask73</th>\n",
       "                        <td id=\"T_015cf626_0ddd_11eb_89ff_d8c0a60b6f56row2_col0\" class=\"data row2 col0\" >3</td>\n",
       "                        <td id=\"T_015cf626_0ddd_11eb_89ff_d8c0a60b6f56row2_col1\" class=\"data row2 col1\" >$4.61</td>\n",
       "                        <td id=\"T_015cf626_0ddd_11eb_89ff_d8c0a60b6f56row2_col2\" class=\"data row2 col2\" >$13.83</td>\n",
       "            </tr>\n",
       "            <tr>\n",
       "                        <th id=\"T_015cf626_0ddd_11eb_89ff_d8c0a60b6f56level0_row3\" class=\"row_heading level0 row3\" >Iral74</th>\n",
       "                        <td id=\"T_015cf626_0ddd_11eb_89ff_d8c0a60b6f56row3_col0\" class=\"data row3 col0\" >4</td>\n",
       "                        <td id=\"T_015cf626_0ddd_11eb_89ff_d8c0a60b6f56row3_col1\" class=\"data row3 col1\" >$3.40</td>\n",
       "                        <td id=\"T_015cf626_0ddd_11eb_89ff_d8c0a60b6f56row3_col2\" class=\"data row3 col2\" >$13.62</td>\n",
       "            </tr>\n",
       "            <tr>\n",
       "                        <th id=\"T_015cf626_0ddd_11eb_89ff_d8c0a60b6f56level0_row4\" class=\"row_heading level0 row4\" >Iskadarya95</th>\n",
       "                        <td id=\"T_015cf626_0ddd_11eb_89ff_d8c0a60b6f56row4_col0\" class=\"data row4 col0\" >3</td>\n",
       "                        <td id=\"T_015cf626_0ddd_11eb_89ff_d8c0a60b6f56row4_col1\" class=\"data row4 col1\" >$4.37</td>\n",
       "                        <td id=\"T_015cf626_0ddd_11eb_89ff_d8c0a60b6f56row4_col2\" class=\"data row4 col2\" >$13.10</td>\n",
       "            </tr>\n",
       "    </tbody></table>"
      ],
      "text/plain": [
       "<pandas.io.formats.style.Styler at 0x242690340a0>"
      ]
     },
     "execution_count": 8,
     "metadata": {},
     "output_type": "execute_result"
    }
   ],
   "source": [
    "#Top Spenders\n",
    "#Purchase Data with SN column\n",
    "#Grouping using SN field,purchase_data base\n",
    "SpenderSN=purchase_data.groupby('SN')\n",
    "\n",
    "#TopSpenders=pd.DataFrame[('AveragePurchasePrice').groupby['SN']]\n",
    "#Purchase Count Spender from Spender SN Groupby   adding \"Purchase ID\" field\n",
    "PurchaseCountSpender=SpenderSN['Purchase ID'].count()\n",
    "\n",
    "#Average Purchase Price Price field (mean) groupby\n",
    "AveragePurchasePriceSpender=SpenderSN['Price'].mean()\n",
    "\n",
    "#Total Purchase Value (sum),Price field\n",
    "TotalPurchaseValueSpender=SpenderSN['Price'].sum()\n",
    "\n",
    "#Top Spender Doing the DataFrame\n",
    "\n",
    "TopSpender=pd.DataFrame({\"Purchase Count\": PurchaseCountSpender,\n",
    "                         \"Average Purchase Price\": AveragePurchasePriceSpender,\n",
    "                         \"Total Purchase Value\": TotalPurchaseValueSpender })\n",
    "#TopSpender  ***check se pasa a segundo plano \n",
    "\n",
    "#Sort in descdending by the columns Total Purchase Value , from the DataFrame + to -,\n",
    "SortTopSpender=TopSpender.sort_values([\"Total Purchase Value\"],ascending=False).head()\n",
    "#SortTopSpender\n",
    "\n",
    "#Using again style instead of map for nice format, but over the new one SortTopSpender\n",
    "SortTopSpender.style.format({\"Average Purchase Price\":\"${:.2f}\",\"Total Purchase Value\":\"${:,.2f}\"})\n"
   ]
  },
  {
   "cell_type": "markdown",
   "metadata": {},
   "source": [
    "********************************************************************************************************************"
   ]
  },
  {
   "cell_type": "markdown",
   "metadata": {},
   "source": [
    "## Most Popular Items"
   ]
  },
  {
   "cell_type": "markdown",
   "metadata": {},
   "source": [
    "* Retrieve the Item ID, Item Name, and Item Price columns\n",
    "\n",
    "\n",
    "* Group by Item ID and Item Name. Perform calculations to obtain purchase count, item price, and total purchase value\n",
    "\n",
    "\n",
    "* Create a summary data frame to hold the results\n",
    "\n",
    "\n",
    "* Sort the purchase count column in descending order\n",
    "\n",
    "\n",
    "* Optional: give the displayed data cleaner formatting\n",
    "\n",
    "\n",
    "* Display a preview of the summary data frame\n",
    "\n"
   ]
  },
  {
   "cell_type": "code",
   "execution_count": 9,
   "metadata": {},
   "outputs": [
    {
     "data": {
      "text/html": [
       "<style  type=\"text/css\" >\n",
       "</style><table id=\"T_016cec83_0ddd_11eb_bd82_d8c0a60b6f56\" ><thead>    <tr>        <th class=\"blank\" ></th>        <th class=\"blank level0\" ></th>        <th class=\"col_heading level0 col0\" >Purchase Count</th>        <th class=\"col_heading level0 col1\" >Item Price</th>        <th class=\"col_heading level0 col2\" >Total Purchase Value</th>    </tr>    <tr>        <th class=\"index_name level0\" >Item ID</th>        <th class=\"index_name level1\" >Item Name</th>        <th class=\"blank\" ></th>        <th class=\"blank\" ></th>        <th class=\"blank\" ></th>    </tr></thead><tbody>\n",
       "                <tr>\n",
       "                        <th id=\"T_016cec83_0ddd_11eb_bd82_d8c0a60b6f56level0_row0\" class=\"row_heading level0 row0\" >92</th>\n",
       "                        <th id=\"T_016cec83_0ddd_11eb_bd82_d8c0a60b6f56level1_row0\" class=\"row_heading level1 row0\" >Final Critic</th>\n",
       "                        <td id=\"T_016cec83_0ddd_11eb_bd82_d8c0a60b6f56row0_col0\" class=\"data row0 col0\" >13</td>\n",
       "                        <td id=\"T_016cec83_0ddd_11eb_bd82_d8c0a60b6f56row0_col1\" class=\"data row0 col1\" >$4.61</td>\n",
       "                        <td id=\"T_016cec83_0ddd_11eb_bd82_d8c0a60b6f56row0_col2\" class=\"data row0 col2\" >$59.99</td>\n",
       "            </tr>\n",
       "            <tr>\n",
       "                        <th id=\"T_016cec83_0ddd_11eb_bd82_d8c0a60b6f56level0_row1\" class=\"row_heading level0 row1\" >178</th>\n",
       "                        <th id=\"T_016cec83_0ddd_11eb_bd82_d8c0a60b6f56level1_row1\" class=\"row_heading level1 row1\" >Oathbreaker, Last Hope of the Breaking Storm</th>\n",
       "                        <td id=\"T_016cec83_0ddd_11eb_bd82_d8c0a60b6f56row1_col0\" class=\"data row1 col0\" >12</td>\n",
       "                        <td id=\"T_016cec83_0ddd_11eb_bd82_d8c0a60b6f56row1_col1\" class=\"data row1 col1\" >$4.23</td>\n",
       "                        <td id=\"T_016cec83_0ddd_11eb_bd82_d8c0a60b6f56row1_col2\" class=\"data row1 col2\" >$50.76</td>\n",
       "            </tr>\n",
       "            <tr>\n",
       "                        <th id=\"T_016cec83_0ddd_11eb_bd82_d8c0a60b6f56level0_row2\" class=\"row_heading level0 row2\" >145</th>\n",
       "                        <th id=\"T_016cec83_0ddd_11eb_bd82_d8c0a60b6f56level1_row2\" class=\"row_heading level1 row2\" >Fiery Glass Crusader</th>\n",
       "                        <td id=\"T_016cec83_0ddd_11eb_bd82_d8c0a60b6f56row2_col0\" class=\"data row2 col0\" >9</td>\n",
       "                        <td id=\"T_016cec83_0ddd_11eb_bd82_d8c0a60b6f56row2_col1\" class=\"data row2 col1\" >$4.58</td>\n",
       "                        <td id=\"T_016cec83_0ddd_11eb_bd82_d8c0a60b6f56row2_col2\" class=\"data row2 col2\" >$41.22</td>\n",
       "            </tr>\n",
       "            <tr>\n",
       "                        <th id=\"T_016cec83_0ddd_11eb_bd82_d8c0a60b6f56level0_row3\" class=\"row_heading level0 row3\" >132</th>\n",
       "                        <th id=\"T_016cec83_0ddd_11eb_bd82_d8c0a60b6f56level1_row3\" class=\"row_heading level1 row3\" >Persuasion</th>\n",
       "                        <td id=\"T_016cec83_0ddd_11eb_bd82_d8c0a60b6f56row3_col0\" class=\"data row3 col0\" >9</td>\n",
       "                        <td id=\"T_016cec83_0ddd_11eb_bd82_d8c0a60b6f56row3_col1\" class=\"data row3 col1\" >$3.22</td>\n",
       "                        <td id=\"T_016cec83_0ddd_11eb_bd82_d8c0a60b6f56row3_col2\" class=\"data row3 col2\" >$28.99</td>\n",
       "            </tr>\n",
       "            <tr>\n",
       "                        <th id=\"T_016cec83_0ddd_11eb_bd82_d8c0a60b6f56level0_row4\" class=\"row_heading level0 row4\" >108</th>\n",
       "                        <th id=\"T_016cec83_0ddd_11eb_bd82_d8c0a60b6f56level1_row4\" class=\"row_heading level1 row4\" >Extraction, Quickblade Of Trembling Hands</th>\n",
       "                        <td id=\"T_016cec83_0ddd_11eb_bd82_d8c0a60b6f56row4_col0\" class=\"data row4 col0\" >9</td>\n",
       "                        <td id=\"T_016cec83_0ddd_11eb_bd82_d8c0a60b6f56row4_col1\" class=\"data row4 col1\" >$3.53</td>\n",
       "                        <td id=\"T_016cec83_0ddd_11eb_bd82_d8c0a60b6f56row4_col2\" class=\"data row4 col2\" >$31.77</td>\n",
       "            </tr>\n",
       "    </tbody></table>"
      ],
      "text/plain": [
       "<pandas.io.formats.style.Styler at 0x2426a0ad2e0>"
      ]
     },
     "execution_count": 9,
     "metadata": {},
     "output_type": "execute_result"
    }
   ],
   "source": [
    "#Most Popular Items\n",
    "#Making group by using fields Item ID, Item Name using Boths and aslso Price\n",
    "#DAtaframe Items\n",
    "Items=purchase_data[['Price','Item ID','Item Name']]\n",
    "\n",
    "#Items field Item ID, Item Data\n",
    "GroupItems=Items.groupby(['Item ID','Item Name'])\n",
    "#GroupItems\n",
    "\n",
    "#Count Items by field  Price (count)\n",
    "PurchaseCountItems=GroupItems['Price'].count()\n",
    "#PurchaseCountItems\n",
    "\n",
    "#Total Purchase Value  Item about group by (sum)\n",
    "PurchaseValueItem=GroupItems['Price'].sum()\n",
    "PurchaseValueItem\n",
    "\n",
    "#Item Price\n",
    "#out of group by Price por Item\n",
    "ItemPrice=PurchaseValueItem/PurchaseCountItems\n",
    "#ItemPrice\n",
    "\n",
    "#DataFrame Most Items\n",
    "MostPopularItems=pd.DataFrame({\"Purchase Count\": PurchaseCountItems,\n",
    "                               \"Item Price\":ItemPrice,\n",
    "                               \"Total Purchase Value\": PurchaseValueItem })\n",
    "#MostPopularItems\n",
    "#Again Sort the purchase count column in descending order\n",
    "SortMostPopularItems=MostPopularItems.sort_values([\"Purchase Count\"],ascending=False).head()\n",
    "#SortMostPopularItems\n",
    "\n",
    "#Using again style instead of map for nice format, but over the new one SortMostPopularItems\n",
    "SortMostPopularItems.style.format({\"Item Price\":\"${:.2f}\",\"Total Purchase Value\":\"${:,.2f}\"})\n"
   ]
  },
  {
   "cell_type": "markdown",
   "metadata": {},
   "source": [
    "***************************************************************************************************"
   ]
  },
  {
   "cell_type": "markdown",
   "metadata": {},
   "source": [
    "## Most Profitable Items"
   ]
  },
  {
   "cell_type": "markdown",
   "metadata": {},
   "source": [
    "* Sort the above table by total purchase value in descending order\n",
    "\n",
    "\n",
    "* Optional: give the displayed data cleaner formatting\n",
    "\n",
    "\n",
    "* Display a preview of the data frame\n",
    "\n"
   ]
  },
  {
   "cell_type": "code",
   "execution_count": 10,
   "metadata": {
    "scrolled": true
   },
   "outputs": [
    {
     "data": {
      "text/html": [
       "<style  type=\"text/css\" >\n",
       "</style><table id=\"T_01806062_0ddd_11eb_8aa4_d8c0a60b6f56\" ><thead>    <tr>        <th class=\"blank\" ></th>        <th class=\"blank level0\" ></th>        <th class=\"col_heading level0 col0\" >Purchase Count</th>        <th class=\"col_heading level0 col1\" >Item Price</th>        <th class=\"col_heading level0 col2\" >Total Purchase Value</th>    </tr>    <tr>        <th class=\"index_name level0\" >Item ID</th>        <th class=\"index_name level1\" >Item Name</th>        <th class=\"blank\" ></th>        <th class=\"blank\" ></th>        <th class=\"blank\" ></th>    </tr></thead><tbody>\n",
       "                <tr>\n",
       "                        <th id=\"T_01806062_0ddd_11eb_8aa4_d8c0a60b6f56level0_row0\" class=\"row_heading level0 row0\" >92</th>\n",
       "                        <th id=\"T_01806062_0ddd_11eb_8aa4_d8c0a60b6f56level1_row0\" class=\"row_heading level1 row0\" >Final Critic</th>\n",
       "                        <td id=\"T_01806062_0ddd_11eb_8aa4_d8c0a60b6f56row0_col0\" class=\"data row0 col0\" >13</td>\n",
       "                        <td id=\"T_01806062_0ddd_11eb_8aa4_d8c0a60b6f56row0_col1\" class=\"data row0 col1\" >$4.61</td>\n",
       "                        <td id=\"T_01806062_0ddd_11eb_8aa4_d8c0a60b6f56row0_col2\" class=\"data row0 col2\" >$59.99</td>\n",
       "            </tr>\n",
       "            <tr>\n",
       "                        <th id=\"T_01806062_0ddd_11eb_8aa4_d8c0a60b6f56level0_row1\" class=\"row_heading level0 row1\" >178</th>\n",
       "                        <th id=\"T_01806062_0ddd_11eb_8aa4_d8c0a60b6f56level1_row1\" class=\"row_heading level1 row1\" >Oathbreaker, Last Hope of the Breaking Storm</th>\n",
       "                        <td id=\"T_01806062_0ddd_11eb_8aa4_d8c0a60b6f56row1_col0\" class=\"data row1 col0\" >12</td>\n",
       "                        <td id=\"T_01806062_0ddd_11eb_8aa4_d8c0a60b6f56row1_col1\" class=\"data row1 col1\" >$4.23</td>\n",
       "                        <td id=\"T_01806062_0ddd_11eb_8aa4_d8c0a60b6f56row1_col2\" class=\"data row1 col2\" >$50.76</td>\n",
       "            </tr>\n",
       "            <tr>\n",
       "                        <th id=\"T_01806062_0ddd_11eb_8aa4_d8c0a60b6f56level0_row2\" class=\"row_heading level0 row2\" >82</th>\n",
       "                        <th id=\"T_01806062_0ddd_11eb_8aa4_d8c0a60b6f56level1_row2\" class=\"row_heading level1 row2\" >Nirvana</th>\n",
       "                        <td id=\"T_01806062_0ddd_11eb_8aa4_d8c0a60b6f56row2_col0\" class=\"data row2 col0\" >9</td>\n",
       "                        <td id=\"T_01806062_0ddd_11eb_8aa4_d8c0a60b6f56row2_col1\" class=\"data row2 col1\" >$4.90</td>\n",
       "                        <td id=\"T_01806062_0ddd_11eb_8aa4_d8c0a60b6f56row2_col2\" class=\"data row2 col2\" >$44.10</td>\n",
       "            </tr>\n",
       "            <tr>\n",
       "                        <th id=\"T_01806062_0ddd_11eb_8aa4_d8c0a60b6f56level0_row3\" class=\"row_heading level0 row3\" >145</th>\n",
       "                        <th id=\"T_01806062_0ddd_11eb_8aa4_d8c0a60b6f56level1_row3\" class=\"row_heading level1 row3\" >Fiery Glass Crusader</th>\n",
       "                        <td id=\"T_01806062_0ddd_11eb_8aa4_d8c0a60b6f56row3_col0\" class=\"data row3 col0\" >9</td>\n",
       "                        <td id=\"T_01806062_0ddd_11eb_8aa4_d8c0a60b6f56row3_col1\" class=\"data row3 col1\" >$4.58</td>\n",
       "                        <td id=\"T_01806062_0ddd_11eb_8aa4_d8c0a60b6f56row3_col2\" class=\"data row3 col2\" >$41.22</td>\n",
       "            </tr>\n",
       "            <tr>\n",
       "                        <th id=\"T_01806062_0ddd_11eb_8aa4_d8c0a60b6f56level0_row4\" class=\"row_heading level0 row4\" >103</th>\n",
       "                        <th id=\"T_01806062_0ddd_11eb_8aa4_d8c0a60b6f56level1_row4\" class=\"row_heading level1 row4\" >Singed Scalpel</th>\n",
       "                        <td id=\"T_01806062_0ddd_11eb_8aa4_d8c0a60b6f56row4_col0\" class=\"data row4 col0\" >8</td>\n",
       "                        <td id=\"T_01806062_0ddd_11eb_8aa4_d8c0a60b6f56row4_col1\" class=\"data row4 col1\" >$4.35</td>\n",
       "                        <td id=\"T_01806062_0ddd_11eb_8aa4_d8c0a60b6f56row4_col2\" class=\"data row4 col2\" >$34.80</td>\n",
       "            </tr>\n",
       "    </tbody></table>"
      ],
      "text/plain": [
       "<pandas.io.formats.style.Styler at 0x2426a08dc10>"
      ]
     },
     "execution_count": 10,
     "metadata": {},
     "output_type": "execute_result"
    }
   ],
   "source": [
    "##Most Profitable Items\n",
    "#Using same DataFrame just change with the column wih the Value\n",
    "MostProfitableItems=pd.DataFrame({\"Purchase Count\":PurchaseCountItems,\n",
    "\"Item Price\":ItemPrice ,\n",
    "\"Total Purchase Value\":PurchaseValueItem})\n",
    "#MostProfitableItems\n",
    "#Sort by Total Purchase Value\n",
    "SortMostProfitableItems=MostProfitableItems.sort_values([\"Total Purchase Value\"],ascending=False).head()\n",
    "#SortMostProfitableItems\n",
    "#Using again style instead of map for nice format, but over the new one SortMostPopularItems\n",
    "SortMostProfitableItems.style.format({\"Item Price\":\"${:.2f}\",\"Total Purchase Value\":\"${:,.2f}\"})"
   ]
  },
  {
   "cell_type": "markdown",
   "metadata": {},
   "source": [
    "***********************************************************************************************************"
   ]
  },
  {
   "cell_type": "markdown",
   "metadata": {},
   "source": [
    "# **Observable Trends by Luz Yllescas**"
   ]
  },
  {
   "cell_type": "markdown",
   "metadata": {},
   "source": [
    "* This is a little sample but even of that we can see in the numbers by gender that is more male players , but even of that the female spend almost the same quantity.This shows that there may be a hidden market niche since the average tells us that the female gender spends a little more but it may be that there are no more games targeted for the female gender.\n",
    "\n",
    "* Reviewing by age it can be seen clearly who occupies the gaming market, being the young people between 20 and 24 years old who almost occupy half of the sample and cover the largest amount of purchases.\n",
    "\n",
    "* We can also see that the largest buyer is 5 items, and the interesting thing is that it coincides that the most popular game is the most profitable, which may suggest that possibly making a part 2 or a similar version may have a guarantee on sales.\n"
   ]
  },
  {
   "cell_type": "markdown",
   "metadata": {},
   "source": [
    "************************************************************************************************************"
   ]
  }
 ],
 "metadata": {
  "anaconda-cloud": {},
  "kernel_info": {
   "name": "python3"
  },
  "kernelspec": {
   "display_name": "Python 3",
   "language": "python",
   "name": "python3"
  },
  "language_info": {
   "codemirror_mode": {
    "name": "ipython",
    "version": 3
   },
   "file_extension": ".py",
   "mimetype": "text/x-python",
   "name": "python",
   "nbconvert_exporter": "python",
   "pygments_lexer": "ipython3",
   "version": "3.8.3"
  },
  "latex_envs": {
   "LaTeX_envs_menu_present": true,
   "autoclose": false,
   "autocomplete": true,
   "bibliofile": "biblio.bib",
   "cite_by": "apalike",
   "current_citInitial": 1,
   "eqLabelWithNumbers": true,
   "eqNumInitial": 1,
   "hotkeys": {
    "equation": "Ctrl-E",
    "itemize": "Ctrl-I"
   },
   "labels_anchors": false,
   "latex_user_defs": false,
   "report_style_numbering": false,
   "user_envs_cfg": false
  },
  "nteract": {
   "version": "0.2.0"
  }
 },
 "nbformat": 4,
 "nbformat_minor": 2
}
